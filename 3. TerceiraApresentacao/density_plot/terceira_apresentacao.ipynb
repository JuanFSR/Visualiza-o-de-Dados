{
 "cells": [
  {
   "cell_type": "code",
   "execution_count": 46,
   "metadata": {},
   "outputs": [],
   "source": [
    "import pandas as pd\n",
    "import numpy as np\n",
    "import seaborn as sns\n",
    "import matplotlib.pyplot as plt"
   ]
  },
  {
   "cell_type": "code",
   "execution_count": 47,
   "metadata": {},
   "outputs": [
    {
     "data": {
      "text/plain": [
       "0         1\n",
       "1         1\n",
       "2         1\n",
       "3         1\n",
       "4         1\n",
       "         ..\n",
       "124000    0\n",
       "124001    0\n",
       "124002    0\n",
       "124003    0\n",
       "124004    0\n",
       "Name: Resolvida, Length: 124005, dtype: int64"
      ]
     },
     "execution_count": 47,
     "metadata": {},
     "output_type": "execute_result"
    }
   ],
   "source": [
    "df = pd.read_csv('../../data/pre_processado_data.csv', sep=',')\n",
    "df['Resolvida']"
   ]
  },
  {
   "cell_type": "code",
   "execution_count": 48,
   "metadata": {},
   "outputs": [
    {
     "data": {
      "text/plain": [
       "array(['2021-11-12', '2021-11-17', '2021-11-11', '2021-11-09',\n",
       "       '2021-11-02', '2021-11-05', '2021-11-29', '2021-11-18',\n",
       "       '2021-11-08', '2021-11-30', '2021-11-27', '2021-11-26',\n",
       "       '2021-11-13', '2021-11-06', '2021-11-25', '2021-11-22',\n",
       "       '2021-11-10', '2021-11-03', '2021-11-24', '2021-11-19',\n",
       "       '2021-11-04', '2021-11-16', '2021-11-15', '2021-11-14',\n",
       "       '2021-11-23', '2021-11-20', '2021-11-28', '2021-11-01',\n",
       "       '2021-11-21', '2021-11-07'], dtype=object)"
      ]
     },
     "execution_count": 48,
     "metadata": {},
     "output_type": "execute_result"
    }
   ],
   "source": [
    "data_dia = df['Data Finalização'].unique()\n",
    "data_dia"
   ]
  },
  {
   "cell_type": "code",
   "execution_count": 49,
   "metadata": {},
   "outputs": [],
   "source": [
    "# Separar por semanas\n",
    "# Primeira semana: até dia 7\n",
    "# Segunda semana: do dia 8 até dia 14\n",
    "# Terceira semana: do dia 15 até dia 21\n",
    "# Quarta semana: do dia 22 até dia 28\n",
    "# Quinta semana: do dia 29 até dia 30\n",
    "\n",
    "df = df.assign(Semana='')\n",
    "df['Semana']\n",
    "\n",
    "for linhas in range (len(df)):\n",
    "    data_finalizacao = df.loc[linhas, 'Data Finalização'].split('-')\n",
    "    if int(data_finalizacao[2]) <= 7:\n",
    "        df.loc[linhas, 'Semana'] = 'Primeira Semana'\n",
    "    elif int(data_finalizacao[2]) > 7 and int(data_finalizacao[2]) <= 14:\n",
    "        df.loc[linhas, 'Semana'] = 'Segunda Semana'\n",
    "    elif int(data_finalizacao[2]) > 14 and int(data_finalizacao[2]) <= 21:\n",
    "        df.loc[linhas, 'Semana'] = 'Terceira Semana'\n",
    "    elif int(data_finalizacao[2]) > 22 and int(data_finalizacao[2]) <= 28:\n",
    "        df.loc[linhas, 'Semana'] = 'Quarta Semana'\n",
    "    else:\n",
    "        df.loc[linhas, 'Semana'] = 'Quinta Semana'\n",
    "    "
   ]
  },
  {
   "cell_type": "code",
   "execution_count": 50,
   "metadata": {},
   "outputs": [
    {
     "name": "stdout",
     "output_type": "stream",
     "text": [
      "5823\n",
      "5660\n",
      "5030\n"
     ]
    },
    {
     "name": "stderr",
     "output_type": "stream",
     "text": [
      "C:\\Users\\juanf\\AppData\\Local\\Temp\\ipykernel_27192\\1113319014.py:12: FutureWarning: The frame.append method is deprecated and will be removed from pandas in a future version. Use pandas.concat instead.\n",
      "  reclamacoes_dia = reclamacoes_dia.append({'Data Finalização': dia, 'Semana': semana, 'QtdeReclamacoes': qtde_reclamacoes}, ignore_index=True)\n",
      "C:\\Users\\juanf\\AppData\\Local\\Temp\\ipykernel_27192\\1113319014.py:12: FutureWarning: The frame.append method is deprecated and will be removed from pandas in a future version. Use pandas.concat instead.\n",
      "  reclamacoes_dia = reclamacoes_dia.append({'Data Finalização': dia, 'Semana': semana, 'QtdeReclamacoes': qtde_reclamacoes}, ignore_index=True)\n",
      "C:\\Users\\juanf\\AppData\\Local\\Temp\\ipykernel_27192\\1113319014.py:12: FutureWarning: The frame.append method is deprecated and will be removed from pandas in a future version. Use pandas.concat instead.\n",
      "  reclamacoes_dia = reclamacoes_dia.append({'Data Finalização': dia, 'Semana': semana, 'QtdeReclamacoes': qtde_reclamacoes}, ignore_index=True)\n"
     ]
    },
    {
     "name": "stdout",
     "output_type": "stream",
     "text": [
      "5140\n",
      "1529\n",
      "6488\n",
      "5801\n"
     ]
    },
    {
     "name": "stderr",
     "output_type": "stream",
     "text": [
      "C:\\Users\\juanf\\AppData\\Local\\Temp\\ipykernel_27192\\1113319014.py:12: FutureWarning: The frame.append method is deprecated and will be removed from pandas in a future version. Use pandas.concat instead.\n",
      "  reclamacoes_dia = reclamacoes_dia.append({'Data Finalização': dia, 'Semana': semana, 'QtdeReclamacoes': qtde_reclamacoes}, ignore_index=True)\n",
      "C:\\Users\\juanf\\AppData\\Local\\Temp\\ipykernel_27192\\1113319014.py:12: FutureWarning: The frame.append method is deprecated and will be removed from pandas in a future version. Use pandas.concat instead.\n",
      "  reclamacoes_dia = reclamacoes_dia.append({'Data Finalização': dia, 'Semana': semana, 'QtdeReclamacoes': qtde_reclamacoes}, ignore_index=True)\n",
      "C:\\Users\\juanf\\AppData\\Local\\Temp\\ipykernel_27192\\1113319014.py:12: FutureWarning: The frame.append method is deprecated and will be removed from pandas in a future version. Use pandas.concat instead.\n",
      "  reclamacoes_dia = reclamacoes_dia.append({'Data Finalização': dia, 'Semana': semana, 'QtdeReclamacoes': qtde_reclamacoes}, ignore_index=True)\n",
      "C:\\Users\\juanf\\AppData\\Local\\Temp\\ipykernel_27192\\1113319014.py:12: FutureWarning: The frame.append method is deprecated and will be removed from pandas in a future version. Use pandas.concat instead.\n",
      "  reclamacoes_dia = reclamacoes_dia.append({'Data Finalização': dia, 'Semana': semana, 'QtdeReclamacoes': qtde_reclamacoes}, ignore_index=True)\n"
     ]
    },
    {
     "name": "stdout",
     "output_type": "stream",
     "text": [
      "5809\n",
      "5313\n",
      "5617\n"
     ]
    },
    {
     "name": "stderr",
     "output_type": "stream",
     "text": [
      "C:\\Users\\juanf\\AppData\\Local\\Temp\\ipykernel_27192\\1113319014.py:12: FutureWarning: The frame.append method is deprecated and will be removed from pandas in a future version. Use pandas.concat instead.\n",
      "  reclamacoes_dia = reclamacoes_dia.append({'Data Finalização': dia, 'Semana': semana, 'QtdeReclamacoes': qtde_reclamacoes}, ignore_index=True)\n",
      "C:\\Users\\juanf\\AppData\\Local\\Temp\\ipykernel_27192\\1113319014.py:12: FutureWarning: The frame.append method is deprecated and will be removed from pandas in a future version. Use pandas.concat instead.\n",
      "  reclamacoes_dia = reclamacoes_dia.append({'Data Finalização': dia, 'Semana': semana, 'QtdeReclamacoes': qtde_reclamacoes}, ignore_index=True)\n",
      "C:\\Users\\juanf\\AppData\\Local\\Temp\\ipykernel_27192\\1113319014.py:12: FutureWarning: The frame.append method is deprecated and will be removed from pandas in a future version. Use pandas.concat instead.\n",
      "  reclamacoes_dia = reclamacoes_dia.append({'Data Finalização': dia, 'Semana': semana, 'QtdeReclamacoes': qtde_reclamacoes}, ignore_index=True)\n",
      "C:\\Users\\juanf\\AppData\\Local\\Temp\\ipykernel_27192\\1113319014.py:12: FutureWarning: The frame.append method is deprecated and will be removed from pandas in a future version. Use pandas.concat instead.\n",
      "  reclamacoes_dia = reclamacoes_dia.append({'Data Finalização': dia, 'Semana': semana, 'QtdeReclamacoes': qtde_reclamacoes}, ignore_index=True)\n"
     ]
    },
    {
     "name": "stdout",
     "output_type": "stream",
     "text": [
      "1720\n",
      "6794\n",
      "1670\n"
     ]
    },
    {
     "name": "stderr",
     "output_type": "stream",
     "text": [
      "C:\\Users\\juanf\\AppData\\Local\\Temp\\ipykernel_27192\\1113319014.py:12: FutureWarning: The frame.append method is deprecated and will be removed from pandas in a future version. Use pandas.concat instead.\n",
      "  reclamacoes_dia = reclamacoes_dia.append({'Data Finalização': dia, 'Semana': semana, 'QtdeReclamacoes': qtde_reclamacoes}, ignore_index=True)\n",
      "C:\\Users\\juanf\\AppData\\Local\\Temp\\ipykernel_27192\\1113319014.py:12: FutureWarning: The frame.append method is deprecated and will be removed from pandas in a future version. Use pandas.concat instead.\n",
      "  reclamacoes_dia = reclamacoes_dia.append({'Data Finalização': dia, 'Semana': semana, 'QtdeReclamacoes': qtde_reclamacoes}, ignore_index=True)\n",
      "C:\\Users\\juanf\\AppData\\Local\\Temp\\ipykernel_27192\\1113319014.py:12: FutureWarning: The frame.append method is deprecated and will be removed from pandas in a future version. Use pandas.concat instead.\n",
      "  reclamacoes_dia = reclamacoes_dia.append({'Data Finalização': dia, 'Semana': semana, 'QtdeReclamacoes': qtde_reclamacoes}, ignore_index=True)\n"
     ]
    },
    {
     "name": "stdout",
     "output_type": "stream",
     "text": [
      "1537\n",
      "5723\n",
      "5172\n"
     ]
    },
    {
     "name": "stderr",
     "output_type": "stream",
     "text": [
      "C:\\Users\\juanf\\AppData\\Local\\Temp\\ipykernel_27192\\1113319014.py:12: FutureWarning: The frame.append method is deprecated and will be removed from pandas in a future version. Use pandas.concat instead.\n",
      "  reclamacoes_dia = reclamacoes_dia.append({'Data Finalização': dia, 'Semana': semana, 'QtdeReclamacoes': qtde_reclamacoes}, ignore_index=True)\n",
      "C:\\Users\\juanf\\AppData\\Local\\Temp\\ipykernel_27192\\1113319014.py:12: FutureWarning: The frame.append method is deprecated and will be removed from pandas in a future version. Use pandas.concat instead.\n",
      "  reclamacoes_dia = reclamacoes_dia.append({'Data Finalização': dia, 'Semana': semana, 'QtdeReclamacoes': qtde_reclamacoes}, ignore_index=True)\n",
      "C:\\Users\\juanf\\AppData\\Local\\Temp\\ipykernel_27192\\1113319014.py:12: FutureWarning: The frame.append method is deprecated and will be removed from pandas in a future version. Use pandas.concat instead.\n",
      "  reclamacoes_dia = reclamacoes_dia.append({'Data Finalização': dia, 'Semana': semana, 'QtdeReclamacoes': qtde_reclamacoes}, ignore_index=True)\n",
      "C:\\Users\\juanf\\AppData\\Local\\Temp\\ipykernel_27192\\1113319014.py:12: FutureWarning: The frame.append method is deprecated and will be removed from pandas in a future version. Use pandas.concat instead.\n",
      "  reclamacoes_dia = reclamacoes_dia.append({'Data Finalização': dia, 'Semana': semana, 'QtdeReclamacoes': qtde_reclamacoes}, ignore_index=True)\n"
     ]
    },
    {
     "name": "stdout",
     "output_type": "stream",
     "text": [
      "4746\n",
      "5056\n",
      "5288\n",
      "6557\n"
     ]
    },
    {
     "name": "stderr",
     "output_type": "stream",
     "text": [
      "C:\\Users\\juanf\\AppData\\Local\\Temp\\ipykernel_27192\\1113319014.py:12: FutureWarning: The frame.append method is deprecated and will be removed from pandas in a future version. Use pandas.concat instead.\n",
      "  reclamacoes_dia = reclamacoes_dia.append({'Data Finalização': dia, 'Semana': semana, 'QtdeReclamacoes': qtde_reclamacoes}, ignore_index=True)\n",
      "C:\\Users\\juanf\\AppData\\Local\\Temp\\ipykernel_27192\\1113319014.py:12: FutureWarning: The frame.append method is deprecated and will be removed from pandas in a future version. Use pandas.concat instead.\n",
      "  reclamacoes_dia = reclamacoes_dia.append({'Data Finalização': dia, 'Semana': semana, 'QtdeReclamacoes': qtde_reclamacoes}, ignore_index=True)\n",
      "C:\\Users\\juanf\\AppData\\Local\\Temp\\ipykernel_27192\\1113319014.py:12: FutureWarning: The frame.append method is deprecated and will be removed from pandas in a future version. Use pandas.concat instead.\n",
      "  reclamacoes_dia = reclamacoes_dia.append({'Data Finalização': dia, 'Semana': semana, 'QtdeReclamacoes': qtde_reclamacoes}, ignore_index=True)\n"
     ]
    },
    {
     "name": "stdout",
     "output_type": "stream",
     "text": [
      "5462\n",
      "5576\n",
      "3857\n"
     ]
    },
    {
     "name": "stderr",
     "output_type": "stream",
     "text": [
      "C:\\Users\\juanf\\AppData\\Local\\Temp\\ipykernel_27192\\1113319014.py:12: FutureWarning: The frame.append method is deprecated and will be removed from pandas in a future version. Use pandas.concat instead.\n",
      "  reclamacoes_dia = reclamacoes_dia.append({'Data Finalização': dia, 'Semana': semana, 'QtdeReclamacoes': qtde_reclamacoes}, ignore_index=True)\n",
      "C:\\Users\\juanf\\AppData\\Local\\Temp\\ipykernel_27192\\1113319014.py:12: FutureWarning: The frame.append method is deprecated and will be removed from pandas in a future version. Use pandas.concat instead.\n",
      "  reclamacoes_dia = reclamacoes_dia.append({'Data Finalização': dia, 'Semana': semana, 'QtdeReclamacoes': qtde_reclamacoes}, ignore_index=True)\n",
      "C:\\Users\\juanf\\AppData\\Local\\Temp\\ipykernel_27192\\1113319014.py:12: FutureWarning: The frame.append method is deprecated and will be removed from pandas in a future version. Use pandas.concat instead.\n",
      "  reclamacoes_dia = reclamacoes_dia.append({'Data Finalização': dia, 'Semana': semana, 'QtdeReclamacoes': qtde_reclamacoes}, ignore_index=True)\n",
      "C:\\Users\\juanf\\AppData\\Local\\Temp\\ipykernel_27192\\1113319014.py:12: FutureWarning: The frame.append method is deprecated and will be removed from pandas in a future version. Use pandas.concat instead.\n",
      "  reclamacoes_dia = reclamacoes_dia.append({'Data Finalização': dia, 'Semana': semana, 'QtdeReclamacoes': qtde_reclamacoes}, ignore_index=True)\n"
     ]
    },
    {
     "name": "stdout",
     "output_type": "stream",
     "text": [
      "762\n",
      "3218\n",
      "1550\n",
      "929\n"
     ]
    },
    {
     "name": "stderr",
     "output_type": "stream",
     "text": [
      "C:\\Users\\juanf\\AppData\\Local\\Temp\\ipykernel_27192\\1113319014.py:12: FutureWarning: The frame.append method is deprecated and will be removed from pandas in a future version. Use pandas.concat instead.\n",
      "  reclamacoes_dia = reclamacoes_dia.append({'Data Finalização': dia, 'Semana': semana, 'QtdeReclamacoes': qtde_reclamacoes}, ignore_index=True)\n",
      "C:\\Users\\juanf\\AppData\\Local\\Temp\\ipykernel_27192\\1113319014.py:12: FutureWarning: The frame.append method is deprecated and will be removed from pandas in a future version. Use pandas.concat instead.\n",
      "  reclamacoes_dia = reclamacoes_dia.append({'Data Finalização': dia, 'Semana': semana, 'QtdeReclamacoes': qtde_reclamacoes}, ignore_index=True)\n",
      "C:\\Users\\juanf\\AppData\\Local\\Temp\\ipykernel_27192\\1113319014.py:12: FutureWarning: The frame.append method is deprecated and will be removed from pandas in a future version. Use pandas.concat instead.\n",
      "  reclamacoes_dia = reclamacoes_dia.append({'Data Finalização': dia, 'Semana': semana, 'QtdeReclamacoes': qtde_reclamacoes}, ignore_index=True)\n"
     ]
    },
    {
     "name": "stdout",
     "output_type": "stream",
     "text": [
      "4442\n",
      "870\n",
      "866\n"
     ]
    },
    {
     "name": "stderr",
     "output_type": "stream",
     "text": [
      "C:\\Users\\juanf\\AppData\\Local\\Temp\\ipykernel_27192\\1113319014.py:12: FutureWarning: The frame.append method is deprecated and will be removed from pandas in a future version. Use pandas.concat instead.\n",
      "  reclamacoes_dia = reclamacoes_dia.append({'Data Finalização': dia, 'Semana': semana, 'QtdeReclamacoes': qtde_reclamacoes}, ignore_index=True)\n",
      "C:\\Users\\juanf\\AppData\\Local\\Temp\\ipykernel_27192\\1113319014.py:12: FutureWarning: The frame.append method is deprecated and will be removed from pandas in a future version. Use pandas.concat instead.\n",
      "  reclamacoes_dia = reclamacoes_dia.append({'Data Finalização': dia, 'Semana': semana, 'QtdeReclamacoes': qtde_reclamacoes}, ignore_index=True)\n"
     ]
    }
   ],
   "source": [
    "# Criar um novo dataframe\n",
    "reclamacoes_dia = pd.DataFrame(columns=['Data Finalização', 'Semana', 'QtdeReclamacoes'])\n",
    "\n",
    "for dia in data_dia:\n",
    "    semana = df[df['Data Finalização'] == dia]\n",
    "    qtde_reclamacoes = len(semana)\n",
    "\n",
    "    semana = semana['Semana'][:1]\n",
    "    semana = semana.values[0]\n",
    "    \n",
    "    print(qtde_reclamacoes)\n",
    "    reclamacoes_dia = reclamacoes_dia.append({'Data Finalização': dia, 'Semana': semana, 'QtdeReclamacoes': qtde_reclamacoes}, ignore_index=True)"
   ]
  },
  {
   "cell_type": "code",
   "execution_count": 51,
   "metadata": {},
   "outputs": [
    {
     "name": "stdout",
     "output_type": "stream",
     "text": [
      "   Data Finalização          Semana QtdeReclamacoes\n",
      "23       2021-11-14  Segunda Semana             762\n",
      "12       2021-11-13  Segunda Semana            1670\n",
      "16       2021-11-10  Segunda Semana            4746\n",
      "2        2021-11-11  Segunda Semana            5030\n",
      "3        2021-11-09  Segunda Semana            5140\n",
      "8        2021-11-08  Segunda Semana            5313\n",
      "0        2021-11-12  Segunda Semana            5823\n",
      "   Data Finalização           Semana QtdeReclamacoes\n",
      "28       2021-11-21  Terceira Semana             870\n",
      "25       2021-11-20  Terceira Semana            1550\n",
      "22       2021-11-15  Terceira Semana            3857\n",
      "21       2021-11-16  Terceira Semana            5576\n",
      "1        2021-11-17  Terceira Semana            5660\n",
      "7        2021-11-18  Terceira Semana            5809\n",
      "19       2021-11-19  Terceira Semana            6557\n",
      "   Data Finalização           Semana QtdeReclamacoes\n",
      "29       2021-11-07  Primeira Semana             866\n",
      "4        2021-11-02  Primeira Semana            1529\n",
      "13       2021-11-06  Primeira Semana            1537\n",
      "27       2021-11-01  Primeira Semana            4442\n",
      "17       2021-11-03  Primeira Semana            5056\n",
      "20       2021-11-04  Primeira Semana            5462\n",
      "5        2021-11-05  Primeira Semana            6488\n",
      "   Data Finalização         Semana QtdeReclamacoes\n",
      "15       2021-11-22  Quinta Semana            5172\n",
      "9        2021-11-30  Quinta Semana            5617\n",
      "6        2021-11-29  Quinta Semana            5801\n"
     ]
    },
    {
     "name": "stderr",
     "output_type": "stream",
     "text": [
      "C:\\Users\\juanf\\AppData\\Local\\Temp\\ipykernel_27192\\2613262133.py:12: FutureWarning: The frame.append method is deprecated and will be removed from pandas in a future version. Use pandas.concat instead.\n",
      "  dataframe_ordenado = dataframe_ordenado.append(auxiliar)\n",
      "C:\\Users\\juanf\\AppData\\Local\\Temp\\ipykernel_27192\\2613262133.py:12: FutureWarning: The frame.append method is deprecated and will be removed from pandas in a future version. Use pandas.concat instead.\n",
      "  dataframe_ordenado = dataframe_ordenado.append(auxiliar)\n",
      "C:\\Users\\juanf\\AppData\\Local\\Temp\\ipykernel_27192\\2613262133.py:12: FutureWarning: The frame.append method is deprecated and will be removed from pandas in a future version. Use pandas.concat instead.\n",
      "  dataframe_ordenado = dataframe_ordenado.append(auxiliar)\n",
      "C:\\Users\\juanf\\AppData\\Local\\Temp\\ipykernel_27192\\2613262133.py:12: FutureWarning: The frame.append method is deprecated and will be removed from pandas in a future version. Use pandas.concat instead.\n",
      "  dataframe_ordenado = dataframe_ordenado.append(auxiliar)\n"
     ]
    },
    {
     "name": "stdout",
     "output_type": "stream",
     "text": [
      "   Data Finalização         Semana QtdeReclamacoes\n",
      "26       2021-11-28  Quarta Semana             929\n",
      "10       2021-11-27  Quarta Semana            1720\n",
      "24       2021-11-23  Quarta Semana            3218\n",
      "18       2021-11-24  Quarta Semana            5288\n",
      "14       2021-11-25  Quarta Semana            5723\n",
      "11       2021-11-26  Quarta Semana            6794\n"
     ]
    },
    {
     "name": "stderr",
     "output_type": "stream",
     "text": [
      "C:\\Users\\juanf\\AppData\\Local\\Temp\\ipykernel_27192\\2613262133.py:12: FutureWarning: The frame.append method is deprecated and will be removed from pandas in a future version. Use pandas.concat instead.\n",
      "  dataframe_ordenado = dataframe_ordenado.append(auxiliar)\n"
     ]
    }
   ],
   "source": [
    "dataframe_ordenado = pd.DataFrame(columns=['Data Finalização', 'Semana', 'QtdeReclamacoes'])\n",
    "\n",
    "semanas = reclamacoes_dia['Semana'].unique()\n",
    "\n",
    "for s in semanas:\n",
    "    auxiliar = reclamacoes_dia[reclamacoes_dia['Semana'] == s]\n",
    "    auxiliar = auxiliar.sort_values(by=\"QtdeReclamacoes\", ascending=True)\n",
    "    print(auxiliar)\n",
    "    dataframe_ordenado = dataframe_ordenado.append(auxiliar)\n"
   ]
  },
  {
   "cell_type": "code",
   "execution_count": 52,
   "metadata": {},
   "outputs": [
    {
     "data": {
      "text/html": [
       "<div>\n",
       "<style scoped>\n",
       "    .dataframe tbody tr th:only-of-type {\n",
       "        vertical-align: middle;\n",
       "    }\n",
       "\n",
       "    .dataframe tbody tr th {\n",
       "        vertical-align: top;\n",
       "    }\n",
       "\n",
       "    .dataframe thead th {\n",
       "        text-align: right;\n",
       "    }\n",
       "</style>\n",
       "<table border=\"1\" class=\"dataframe\">\n",
       "  <thead>\n",
       "    <tr style=\"text-align: right;\">\n",
       "      <th></th>\n",
       "      <th>Data Finalização</th>\n",
       "      <th>Semana</th>\n",
       "      <th>QtdeReclamacoes</th>\n",
       "    </tr>\n",
       "  </thead>\n",
       "  <tbody>\n",
       "    <tr>\n",
       "      <th>23</th>\n",
       "      <td>2021-11-14</td>\n",
       "      <td>Segunda Semana</td>\n",
       "      <td>762</td>\n",
       "    </tr>\n",
       "    <tr>\n",
       "      <th>12</th>\n",
       "      <td>2021-11-13</td>\n",
       "      <td>Segunda Semana</td>\n",
       "      <td>1670</td>\n",
       "    </tr>\n",
       "    <tr>\n",
       "      <th>16</th>\n",
       "      <td>2021-11-10</td>\n",
       "      <td>Segunda Semana</td>\n",
       "      <td>4746</td>\n",
       "    </tr>\n",
       "    <tr>\n",
       "      <th>2</th>\n",
       "      <td>2021-11-11</td>\n",
       "      <td>Segunda Semana</td>\n",
       "      <td>5030</td>\n",
       "    </tr>\n",
       "    <tr>\n",
       "      <th>3</th>\n",
       "      <td>2021-11-09</td>\n",
       "      <td>Segunda Semana</td>\n",
       "      <td>5140</td>\n",
       "    </tr>\n",
       "    <tr>\n",
       "      <th>8</th>\n",
       "      <td>2021-11-08</td>\n",
       "      <td>Segunda Semana</td>\n",
       "      <td>5313</td>\n",
       "    </tr>\n",
       "    <tr>\n",
       "      <th>0</th>\n",
       "      <td>2021-11-12</td>\n",
       "      <td>Segunda Semana</td>\n",
       "      <td>5823</td>\n",
       "    </tr>\n",
       "    <tr>\n",
       "      <th>28</th>\n",
       "      <td>2021-11-21</td>\n",
       "      <td>Terceira Semana</td>\n",
       "      <td>870</td>\n",
       "    </tr>\n",
       "    <tr>\n",
       "      <th>25</th>\n",
       "      <td>2021-11-20</td>\n",
       "      <td>Terceira Semana</td>\n",
       "      <td>1550</td>\n",
       "    </tr>\n",
       "    <tr>\n",
       "      <th>22</th>\n",
       "      <td>2021-11-15</td>\n",
       "      <td>Terceira Semana</td>\n",
       "      <td>3857</td>\n",
       "    </tr>\n",
       "    <tr>\n",
       "      <th>21</th>\n",
       "      <td>2021-11-16</td>\n",
       "      <td>Terceira Semana</td>\n",
       "      <td>5576</td>\n",
       "    </tr>\n",
       "    <tr>\n",
       "      <th>1</th>\n",
       "      <td>2021-11-17</td>\n",
       "      <td>Terceira Semana</td>\n",
       "      <td>5660</td>\n",
       "    </tr>\n",
       "    <tr>\n",
       "      <th>7</th>\n",
       "      <td>2021-11-18</td>\n",
       "      <td>Terceira Semana</td>\n",
       "      <td>5809</td>\n",
       "    </tr>\n",
       "    <tr>\n",
       "      <th>19</th>\n",
       "      <td>2021-11-19</td>\n",
       "      <td>Terceira Semana</td>\n",
       "      <td>6557</td>\n",
       "    </tr>\n",
       "    <tr>\n",
       "      <th>29</th>\n",
       "      <td>2021-11-07</td>\n",
       "      <td>Primeira Semana</td>\n",
       "      <td>866</td>\n",
       "    </tr>\n",
       "    <tr>\n",
       "      <th>4</th>\n",
       "      <td>2021-11-02</td>\n",
       "      <td>Primeira Semana</td>\n",
       "      <td>1529</td>\n",
       "    </tr>\n",
       "    <tr>\n",
       "      <th>13</th>\n",
       "      <td>2021-11-06</td>\n",
       "      <td>Primeira Semana</td>\n",
       "      <td>1537</td>\n",
       "    </tr>\n",
       "    <tr>\n",
       "      <th>27</th>\n",
       "      <td>2021-11-01</td>\n",
       "      <td>Primeira Semana</td>\n",
       "      <td>4442</td>\n",
       "    </tr>\n",
       "    <tr>\n",
       "      <th>17</th>\n",
       "      <td>2021-11-03</td>\n",
       "      <td>Primeira Semana</td>\n",
       "      <td>5056</td>\n",
       "    </tr>\n",
       "    <tr>\n",
       "      <th>20</th>\n",
       "      <td>2021-11-04</td>\n",
       "      <td>Primeira Semana</td>\n",
       "      <td>5462</td>\n",
       "    </tr>\n",
       "    <tr>\n",
       "      <th>5</th>\n",
       "      <td>2021-11-05</td>\n",
       "      <td>Primeira Semana</td>\n",
       "      <td>6488</td>\n",
       "    </tr>\n",
       "    <tr>\n",
       "      <th>15</th>\n",
       "      <td>2021-11-22</td>\n",
       "      <td>Quinta Semana</td>\n",
       "      <td>5172</td>\n",
       "    </tr>\n",
       "    <tr>\n",
       "      <th>9</th>\n",
       "      <td>2021-11-30</td>\n",
       "      <td>Quinta Semana</td>\n",
       "      <td>5617</td>\n",
       "    </tr>\n",
       "    <tr>\n",
       "      <th>6</th>\n",
       "      <td>2021-11-29</td>\n",
       "      <td>Quinta Semana</td>\n",
       "      <td>5801</td>\n",
       "    </tr>\n",
       "    <tr>\n",
       "      <th>26</th>\n",
       "      <td>2021-11-28</td>\n",
       "      <td>Quarta Semana</td>\n",
       "      <td>929</td>\n",
       "    </tr>\n",
       "    <tr>\n",
       "      <th>10</th>\n",
       "      <td>2021-11-27</td>\n",
       "      <td>Quarta Semana</td>\n",
       "      <td>1720</td>\n",
       "    </tr>\n",
       "    <tr>\n",
       "      <th>24</th>\n",
       "      <td>2021-11-23</td>\n",
       "      <td>Quarta Semana</td>\n",
       "      <td>3218</td>\n",
       "    </tr>\n",
       "    <tr>\n",
       "      <th>18</th>\n",
       "      <td>2021-11-24</td>\n",
       "      <td>Quarta Semana</td>\n",
       "      <td>5288</td>\n",
       "    </tr>\n",
       "    <tr>\n",
       "      <th>14</th>\n",
       "      <td>2021-11-25</td>\n",
       "      <td>Quarta Semana</td>\n",
       "      <td>5723</td>\n",
       "    </tr>\n",
       "    <tr>\n",
       "      <th>11</th>\n",
       "      <td>2021-11-26</td>\n",
       "      <td>Quarta Semana</td>\n",
       "      <td>6794</td>\n",
       "    </tr>\n",
       "  </tbody>\n",
       "</table>\n",
       "</div>"
      ],
      "text/plain": [
       "   Data Finalização           Semana QtdeReclamacoes\n",
       "23       2021-11-14   Segunda Semana             762\n",
       "12       2021-11-13   Segunda Semana            1670\n",
       "16       2021-11-10   Segunda Semana            4746\n",
       "2        2021-11-11   Segunda Semana            5030\n",
       "3        2021-11-09   Segunda Semana            5140\n",
       "8        2021-11-08   Segunda Semana            5313\n",
       "0        2021-11-12   Segunda Semana            5823\n",
       "28       2021-11-21  Terceira Semana             870\n",
       "25       2021-11-20  Terceira Semana            1550\n",
       "22       2021-11-15  Terceira Semana            3857\n",
       "21       2021-11-16  Terceira Semana            5576\n",
       "1        2021-11-17  Terceira Semana            5660\n",
       "7        2021-11-18  Terceira Semana            5809\n",
       "19       2021-11-19  Terceira Semana            6557\n",
       "29       2021-11-07  Primeira Semana             866\n",
       "4        2021-11-02  Primeira Semana            1529\n",
       "13       2021-11-06  Primeira Semana            1537\n",
       "27       2021-11-01  Primeira Semana            4442\n",
       "17       2021-11-03  Primeira Semana            5056\n",
       "20       2021-11-04  Primeira Semana            5462\n",
       "5        2021-11-05  Primeira Semana            6488\n",
       "15       2021-11-22    Quinta Semana            5172\n",
       "9        2021-11-30    Quinta Semana            5617\n",
       "6        2021-11-29    Quinta Semana            5801\n",
       "26       2021-11-28    Quarta Semana             929\n",
       "10       2021-11-27    Quarta Semana            1720\n",
       "24       2021-11-23    Quarta Semana            3218\n",
       "18       2021-11-24    Quarta Semana            5288\n",
       "14       2021-11-25    Quarta Semana            5723\n",
       "11       2021-11-26    Quarta Semana            6794"
      ]
     },
     "execution_count": 52,
     "metadata": {},
     "output_type": "execute_result"
    }
   ],
   "source": [
    "dataframe_ordenado"
   ]
  },
  {
   "cell_type": "code",
   "execution_count": 54,
   "metadata": {},
   "outputs": [
    {
     "data": {
      "image/png": "[encoded data removed]",
      "text/plain": [
       "<Figure size 1440x720 with 1 Axes>"
      ]
     },
     "metadata": {},
     "output_type": "display_data"
    }
   ],
   "source": [
    "# Verificar a quantidade de reclamações resolvidas por dia\n",
    "# Serão verificados a densidade de reclamações feitas por semana\n",
    "sns.set(style=\"whitegrid\")\n",
    "sns.set(rc={'figure.figsize':(20,10)})\n",
    "\n",
    "\n",
    "sns.kdeplot(data=dataframe_ordenado, x=\"QtdeReclamacoes\", hue=\"Semana\", common_norm=False, multiple=\"fill\", alpha=1)\n",
    "\n",
    "plt.title('Gráfico de Densidade da quantidade de reclamações resolvidas durante o mês de novembro de 2021')\n",
    "plt.legend(['Primeira Semana', 'Segunda Semana', 'Terceira Semana', 'Quarta Semana', 'Quinta Semana'])\n",
    "\n",
    "plt.xlabel('Quantidade de Reclamações Resolvidas')\n",
    "plt.ylabel('Densidade')\n",
    "\n",
    "plt.xlim(0, 7000)\n",
    "plt.show()\n"
   ]
  }
 ],
 "metadata": {
  "kernelspec": {
   "display_name": "Python 3.10.1 64-bit",
   "language": "python",
   "name": "python3"
  },
  "language_info": {
   "codemirror_mode": {
    "name": "ipython",
    "version": 3
   },
   "file_extension": ".py",
   "mimetype": "text/x-python",
   "name": "python",
   "nbconvert_exporter": "python",
   "pygments_lexer": "ipython3",
   "version": "3.10.1"
  },
  "orig_nbformat": 4,
  "vscode": {
   "interpreter": {
    "hash": "5f8436ca69605a966ff79010098809a12c5976760e976a925ddbd71d745a4499"
   }
  }
 },
 "nbformat": 4,
 "nbformat_minor": 2
}
