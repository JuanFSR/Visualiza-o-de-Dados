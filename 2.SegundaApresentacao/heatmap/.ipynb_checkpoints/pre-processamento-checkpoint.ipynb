{
 "cells": [
  {
   "cell_type": "code",
   "execution_count": 1,
   "id": "319ff02b-4274-404d-9ef7-baf8043920f0",
   "metadata": {},
   "outputs": [],
   "source": [
    "import pandas as pd\n",
    "import numpy as np"
   ]
  },
  {
   "cell_type": "code",
   "execution_count": 3,
   "id": "a81eb2cd-becb-4272-8c4a-38901e992379",
   "metadata": {},
   "outputs": [],
   "source": [
    "df = pd.read_csv(\"../../data/pre_processado_data.csv\", sep=\",\")"
   ]
  },
  {
   "cell_type": "code",
   "execution_count": 12,
   "id": "aa08bb7e-4b55-48af-ae13-926fe05a7ac8",
   "metadata": {},
   "outputs": [],
   "source": [
    "area_unique = df[\"Área\"].unique()\n",
    "age_unique = df[\"Faixa Etária\"].unique()"
   ]
  },
  {
   "cell_type": "code",
   "execution_count": 35,
   "id": "fa6d7b7c-f7fb-42f6-af3a-06b794a1fa9d",
   "metadata": {},
   "outputs": [],
   "source": [
    "data = [[df[df[\"Área\"] == area][age].sum() for age in age_unique] for area in area_unique]\n",
    "processed_df = pd.DataFrame(data, columns=age_unique)"
   ]
  },
  {
   "cell_type": "code",
   "execution_count": 36,
   "id": "04a27e3d-a0d3-494e-930e-878caa88e7f1",
   "metadata": {},
   "outputs": [],
   "source": [
    "processed_df.insert(0, \"Área\", area_unique)"
   ]
  },
  {
   "cell_type": "code",
   "execution_count": 39,
   "id": "eea20ece-f3e9-4f5a-9b1c-642e49983aef",
   "metadata": {},
   "outputs": [],
   "source": [
    "processed_df.to_csv(\"processed_data.csv\", index=False)"
   ]
  }
 ],
 "metadata": {
  "kernelspec": {
   "display_name": "Python 3 (ipykernel)",
   "language": "python",
   "name": "python3"
  },
  "language_info": {
   "codemirror_mode": {
    "name": "ipython",
    "version": 3
   },
   "file_extension": ".py",
   "mimetype": "text/x-python",
   "name": "python",
   "nbconvert_exporter": "python",
   "pygments_lexer": "ipython3",
   "version": "3.10.4"
  }
 },
 "nbformat": 4,
 "nbformat_minor": 5
}
